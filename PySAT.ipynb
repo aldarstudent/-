{
  "nbformat": 4,
  "nbformat_minor": 0,
  "metadata": {
    "colab": {
      "name": "PySAT.ipynb",
      "provenance": [],
      "include_colab_link": true
    },
    "kernelspec": {
      "name": "python3",
      "display_name": "Python 3"
    }
  },
  "cells": [
    {
      "cell_type": "markdown",
      "metadata": {
        "id": "view-in-github",
        "colab_type": "text"
      },
      "source": [
        "<a href=\"https://colab.research.google.com/github/aldarstudent/-/blob/master/PySAT.ipynb\" target=\"_parent\"><img src=\"https://colab.research.google.com/assets/colab-badge.svg\" alt=\"Open In Colab\"/></a>"
      ]
    },
    {
      "cell_type": "markdown",
      "metadata": {
        "id": "xIbPSqp_Iulx",
        "colab_type": "text"
      },
      "source": [
        "# PySAT\n"
      ]
    },
    {
      "cell_type": "code",
      "metadata": {
        "id": "bOH2vrt6Itii",
        "colab_type": "code",
        "colab": {}
      },
      "source": [
        "# команда bash, которая устанавливает PySAT\n",
        "# выполнение этой команды может занять некоторое время, будьте терпеливы\n",
        "!pip install python-sat"
      ],
      "execution_count": 0,
      "outputs": []
    },
    {
      "cell_type": "markdown",
      "metadata": {
        "id": "gITlHjc-J21U",
        "colab_type": "text"
      },
      "source": [
        "##Примеры использования PySAT\n",
        "\n",
        "\n",
        "Переменным соответствуют натуральные положительные числа. Отрицанию переменной соответствует то же число, но со знаком минус. Списки из переменных и их отрицаний соответствуют клаузам КНФ: например, список [1, -2, 3] соответствует клаузе $(x_1 \\lor \\lnot x_2 \\lor x_3)$. Добавляя несколько клауз мы получаем КНФ. В примере ниже солверу подается на вход КНФ $(\\lnot x_1 \\lor x_2) \\land (\\lnot x_2 \\lor x_3)$. Солвер находит выполяющее означивание $x_1 = x_2 = x_3 = 0$."
      ]
    },
    {
      "cell_type": "code",
      "metadata": {
        "id": "QHoJovQzJ0ga",
        "colab_type": "code",
        "outputId": "87561fc4-bffb-437d-9b37-de65b3cab86f",
        "colab": {
          "base_uri": "https://localhost:8080/",
          "height": 53
        }
      },
      "source": [
        "from pysat.solvers import Glucose3\n",
        "\n",
        "g = Glucose3()\n",
        "g.add_clause([-1, 2])\n",
        "g.add_clause([-2, 3])\n",
        "print(g.solve())\n",
        "print(g.get_model())"
      ],
      "execution_count": 0,
      "outputs": [
        {
          "output_type": "stream",
          "text": [
            "True\n",
            "[-1, -2, -3]\n"
          ],
          "name": "stdout"
        }
      ]
    },
    {
      "cell_type": "markdown",
      "metadata": {
        "id": "cbffdKWmZvFO",
        "colab_type": "text"
      },
      "source": [
        "В примере ниже солверу подается КНФ $(x_1 \\lor x_2) \\land (\\lnot x_1 \\lor x_2) \\land (x_1 \\lor \\lnot x_2) \\land (\\lnot x_1 \\lor \\lnot x_2)$. Данная КНФ невыполнима, что и сообщает солвер. "
      ]
    },
    {
      "cell_type": "code",
      "metadata": {
        "id": "N_rSmmEQZlYx",
        "colab_type": "code",
        "outputId": "c9c6048a-44e9-487f-b3d6-ae209ca41c70",
        "colab": {
          "base_uri": "https://localhost:8080/",
          "height": 53
        }
      },
      "source": [
        "g = Glucose3()\n",
        "g.add_clause([1, 2])\n",
        "g.add_clause([-1, 2])\n",
        "g.add_clause([1, -2])\n",
        "g.add_clause([-1, -2])\n",
        "print(g.solve())\n",
        "print(g.get_model())"
      ],
      "execution_count": 0,
      "outputs": [
        {
          "output_type": "stream",
          "text": [
            "False\n",
            "None\n"
          ],
          "name": "stdout"
        }
      ]
    },
    {
      "cell_type": "markdown",
      "metadata": {
        "id": "tunoj4TwcQn7",
        "colab_type": "text"
      },
      "source": [
        "Больше информации о функционале библиотеки можно найти [здесь](https://pysathq.github.io/usage.html)  и [здесь](https://github.com/pysathq/pysat). Также [тут](https://pysathq.github.io/installation.html) можно найти инструкции по установке библитеки (к сожалению, доступна только для UNIX систем)."
      ]
    },
    {
      "cell_type": "markdown",
      "metadata": {
        "id": "7dUP5QqECqPy",
        "colab_type": "text"
      },
      "source": [
        "## Загрузка файлов из Google Drive\n",
        "\n",
        "Запустив команды ниже, вы получите доступ к своему диску на Google Drive. "
      ]
    },
    {
      "cell_type": "code",
      "metadata": {
        "id": "HqJqquSSDCR8",
        "colab_type": "code",
        "colab": {}
      },
      "source": [
        "from google.colab import drive\n",
        "drive.mount('/content/drive')"
      ],
      "execution_count": 0,
      "outputs": []
    },
    {
      "cell_type": "code",
      "metadata": {
        "id": "I2TPjaN1EWH7",
        "colab_type": "code",
        "colab": {}
      },
      "source": [
        "# Список файлов и папок находящихся в корневой директории\n",
        "!ls ./drive/My\\ Drive"
      ],
      "execution_count": 0,
      "outputs": []
    },
    {
      "cell_type": "markdown",
      "metadata": {
        "id": "_Ff-h_CBDYV7",
        "colab_type": "text"
      },
      "source": [
        "Ниже пример чтения из файла. Чтобы получить к нему доступ, необходимо указать путь к файлу: '/content/drive/My Drive' — корневая папка вашего Google Drive. Если в корневой папке лежит файл 'sample.txt', то путь к нему будет '/content/drive/My Drive/sample.txt'"
      ]
    },
    {
      "cell_type": "code",
      "metadata": {
        "id": "fHiKs1ytDXbX",
        "colab_type": "code",
        "outputId": "ac5ccd9d-5769-49a0-a7b1-05a5f107959e",
        "colab": {
          "base_uri": "https://localhost:8080/",
          "height": 89
        }
      },
      "source": [
        "f = open('/content/drive/My Drive/sample.txt')\n",
        "l1 = f.readline()\n",
        "print(l1)\n",
        "l2 = f.readline()\n",
        "print(l2)"
      ],
      "execution_count": 0,
      "outputs": [
        {
          "output_type": "stream",
          "text": [
            "first line\n",
            "\n",
            "second line\n",
            "\n"
          ],
          "name": "stdout"
        }
      ]
    }
  ]
}